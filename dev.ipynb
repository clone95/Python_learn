{
 "cells": [
  {
   "cell_type": "code",
   "execution_count": 25,
   "source": [
    "import cryptocompare\r\n",
    "\r\n",
    "portfolio_allocation = {\"BTC\": 0.7, \"ETH\": 0.2, \"DOT\": 0.1}\r\n",
    "capital = 2000\r\n",
    "n_steps = 34\r\n",
    "\r\n",
    "\r\n",
    "def calculate_final_allocation(capital, portfolio_allocation):\r\n",
    "    return {x : ( capital * portfolio_allocation[x] ) for x in portfolio_allocation }\r\n",
    "\r\n",
    "\r\n",
    "def one_step_buy_size(capital, n_steps, portfolio_allocation):\r\n",
    "    final_sizes = calculate_final_allocation(capital, portfolio_allocation)\r\n",
    "    return {x: final_sizes[x] / n_steps    for x in portfolio_allocation}\r\n",
    "\r\n",
    "\r\n",
    "def apply_asset_change(portfolio, asset_to_remove, asset_to_insert, n_steps, percentage_change = 0.3):\r\n",
    "    # {'BTC': 70, 'ETH': 20, 'DOT': 10}  ->  {'BTC': 70, 'ETH': 20, 'LUNA': 10}\r\n",
    "    \r\n",
    "    prices = {asset_to_remove: cryptocompare.get_price(asset_to_remove, 'USD')[asset_to_remove][\"USD\"],\r\n",
    "     asset_to_insert: cryptocompare.get_price(asset_to_insert, 'USD')[asset_to_insert][\"USD\"]} \r\n",
    "    try:\r\n",
    "        if percentage_change == 1:\r\n",
    "            one_step_sell_size = portfolio[asset_to_remove] / n_steps \r\n",
    "            size_in_usdt = one_step_sell_size * prices[asset_to_remove]\r\n",
    "            one_step_buy_size = size_in_usdt / prices[asset_to_insert]\r\n",
    "            \r\n",
    "            print(f\"you have to sell {round(one_step_sell_size, 2)} units of {asset_to_remove} and \" +\r\n",
    "                        f\"buy {round(one_step_buy_size, 2)} units of {asset_to_insert}\")\r\n",
    "        else:\r\n",
    "            one_step_sell_size = portfolio[asset_to_remove] * percentage_change / n_steps \r\n",
    "            size_in_usdt = one_step_sell_size * prices[asset_to_remove]\r\n",
    "            one_step_buy_size = size_in_usdt / prices[asset_to_insert]\r\n",
    "            \r\n",
    "            print(f\"you have to sell {round(one_step_sell_size, 2)} units of {asset_to_remove} and \" +\r\n",
    "                        f\"buy {round(one_step_buy_size, 2)} units of {asset_to_insert}\")\r\n",
    "    except Exception as e:\r\n",
    "        print(f\"The asset {e} is not present in the portfolio\")\r\n",
    "        return None\r\n",
    "\r\n",
    "    return one_step_sell_size, one_step_buy_size\r\n",
    "\r\n",
    "\r\n",
    "portfolio = calculate_final_allocation(capital, portfolio_allocation)\r\n",
    "apply_asset_change (portfolio, \"BTC\", \"ETH\", 15)\r\n",
    "\r\n"
   ],
   "outputs": [
    {
     "output_type": "stream",
     "name": "stdout",
     "text": [
      "you have to sell 28.0 units of BTC and buy 431.52 units of ETH\n"
     ]
    },
    {
     "output_type": "execute_result",
     "data": {
      "text/plain": [
       "(28.0, 431.5218723380486)"
      ]
     },
     "metadata": {},
     "execution_count": 25
    }
   ],
   "metadata": {}
  },
  {
   "cell_type": "code",
   "execution_count": 11,
   "source": [
    "changes = {\"DOT\":{\"percentage_change\": 0.3, \"n_steps\": 14, \"asset_to_change_with\": \"BTC\"}, \r\n",
    "            \"ETH\":{\"percentage_change\": 0.6, \"n_steps\": 5, \"asset_to_change_with\": \"BNB\"}}"
   ],
   "outputs": [
    {
     "output_type": "execute_result",
     "data": {
      "text/plain": [
       "dict_keys(['BTC', 'ETH', 'DOT'])"
      ]
     },
     "metadata": {},
     "execution_count": 11
    }
   ],
   "metadata": {}
  },
  {
   "cell_type": "code",
   "execution_count": null,
   "source": [],
   "outputs": [],
   "metadata": {}
  }
 ],
 "metadata": {
  "orig_nbformat": 4,
  "language_info": {
   "name": "python",
   "version": "3.7.8",
   "mimetype": "text/x-python",
   "codemirror_mode": {
    "name": "ipython",
    "version": 3
   },
   "pygments_lexer": "ipython3",
   "nbconvert_exporter": "python",
   "file_extension": ".py"
  },
  "kernelspec": {
   "name": "python3",
   "display_name": "Python 3.7.8 64-bit"
  },
  "interpreter": {
   "hash": "09708eefb2220946ccbd6c6af2f74b3872506fddae205193c49cd3370820c9df"
  }
 },
 "nbformat": 4,
 "nbformat_minor": 2
}