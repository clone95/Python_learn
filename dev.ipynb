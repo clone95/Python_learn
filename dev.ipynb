{
 "cells": [
  {
   "cell_type": "code",
   "execution_count": 2,
   "source": [
    "from utils import ensure_dir\r\n",
    "\r\n",
    "\r\n",
    "ensure_dir(\"prova\")\r\n",
    "\r\n"
   ],
   "outputs": [],
   "metadata": {}
  }
 ],
 "metadata": {
  "orig_nbformat": 4,
  "language_info": {
   "name": "python",
   "version": "3.7.8",
   "mimetype": "text/x-python",
   "codemirror_mode": {
    "name": "ipython",
    "version": 3
   },
   "pygments_lexer": "ipython3",
   "nbconvert_exporter": "python",
   "file_extension": ".py"
  },
  "kernelspec": {
   "name": "python3",
   "display_name": "Python 3.7.8 64-bit"
  },
  "interpreter": {
   "hash": "09708eefb2220946ccbd6c6af2f74b3872506fddae205193c49cd3370820c9df"
  }
 },
 "nbformat": 4,
 "nbformat_minor": 2
}